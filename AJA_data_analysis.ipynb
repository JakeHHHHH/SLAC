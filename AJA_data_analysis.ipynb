{
 "cells": [
  {
   "cell_type": "markdown",
   "id": "ae0ab41f",
   "metadata": {},
   "source": [
    "This Python Notebook was made by Jake Hagerson with the assistant of AI tools. I was an intern in the summer of 2025."
   ]
  },
  {
   "cell_type": "code",
   "execution_count": null,
   "id": "d094d001",
   "metadata": {},
   "outputs": [],
   "source": [
    "#Imports\n",
    "import datetime\n",
    "import os\n",
    "from math import ceil\n",
    "\n",
    "import matplotlib.colors\n",
    "import matplotlib.pyplot as plt\n",
    "import numpy as np\n",
    "import pandas as pd\n",
    "from IPython.display import display\n",
    "from ipywidgets import interact, widgets"
   ]
  },
  {
   "cell_type": "code",
   "execution_count": null,
   "id": "d6c73211",
   "metadata": {},
   "outputs": [],
   "source": [
    "#Here is a generic color plaette for the graphs which you can change\n",
    "#at your disgression\n",
    "color_palette = [\n",
    "    'dodgerblue',\n",
    "    'mediumseagreen',\n",
    "    'goldenrod',\n",
    "    'indianred',\n",
    "    'slateblue',\n",
    "    'tomato',\n",
    "    'orchid',\n",
    "    'darkcyan',\n",
    "    'rosybrown',\n",
    "    'steelblue',\n",
    "    'coral',\n",
    "    'darkorange',\n",
    "    'limegreen',\n",
    "    'sienna',\n",
    "    'mediumvioletred',\n",
    "    'peru',\n",
    "    'teal',\n",
    "    'cadetblue',\n",
    "    'palevioletred',\n",
    "    'darkkhaki'\n",
    "]\n"
   ]
  },
  {
   "cell_type": "code",
   "execution_count": null,
   "id": "f46932be",
   "metadata": {},
   "outputs": [],
   "source": [
    "# Replace 'your_file_path.csv' with the actual path to your CSV file\n",
    "file_path = r\"C:\\Users\\jakeh\\OneDrive\\Desktop\\Jake AJA Copy Folder\\Datalog\\20250625_S041_Ta_500W_815s_600C_25-Jun-25_ 2_03_23 PM.csv\"\n",
    "\n",
    "# Read the CSV file into a DataFrame\n",
    "df = pd.read_csv(file_path, skiprows= 1)\n",
    "\n",
    "# Will show what the dataframe looks like\n",
    "print(df.head())\n",
    "print(df.shape)"
   ]
  },
  {
   "cell_type": "markdown",
   "id": "2516c63f",
   "metadata": {},
   "source": [
    "There are 74 Different Parameters that the AJA sputterer stores, most of which are useless."
   ]
  },
  {
   "cell_type": "code",
   "execution_count": null,
   "id": "fea05525",
   "metadata": {},
   "outputs": [],
   "source": [
    "#Here is a display of the Temperature vs. Time graph with a layer seperation\n",
    "\n",
    "\n",
    "#Plot Creation\n",
    "plt.figure(figsize=(10, 6))\n",
    "plt.plot(df['Time'], df['Sub. Temp.'], label='Temperature', marker=',')\n",
    "plt.plot(df['Time'], df['Sub. Temp. STPT'], label='STPT Temperature', marker=',')\n",
    "plt.title('Temperature Over Time')\n",
    "plt.xlabel('Time')\n",
    "plt.ylabel('Values')\n",
    "plt.legend()\n",
    "\n",
    "\n",
    "#In order to visualize the different layers we have to find out the data ranges of these layers\n",
    "\n",
    "#This is take the last entry from the layer column which should be the number of layers\n",
    "layer_num = int(df['Layer #'].iloc[-1])\n",
    "\n",
    "#Now we select the colors for each layer based on the number of layers\n",
    "colors =[i for i in color_palette[0:layer_num]]\n",
    "\n",
    "#Now find the ranges\n",
    "def get_color_ranges() -> list:\n",
    "    color_ranges = []\n",
    "    current_layer = 1\n",
    "    start = 0\n",
    "    end = 0\n",
    "    for i in range(len(df['Time'])):\n",
    "        if df['Layer #'][i] > current_layer:\n",
    "            color_ranges.append((df['Time'][start],df['Time'][end]))\n",
    "            start = i\n",
    "            end = start\n",
    "            current_layer += 1\n",
    "        elif i == len(df['Time']) -1:\n",
    "            color_ranges.append((df['Time'][start],df['Time'][end]))\n",
    "        else:\n",
    "            end += 1\n",
    "    return color_ranges\n",
    "\n",
    "\n",
    "#Now we color the areas of the graph\n",
    "color_ranges = get_color_ranges()\n",
    "for i in range(len(color_ranges)):\n",
    "    plt.axvspan(color_ranges[i][0], color_ranges[i][1], facecolor=colors[i], alpha=0.5, label = f\"Layer {i+1}\")\n",
    "    plt.text(color_ranges[i][0], i*30, s = f\"Layer {i+1}\" )\n",
    "#Because these files are so dense, we only display the 100th timestamp\n",
    "plt.xticks(df['Time'][::1000])\n",
    "#Show the Graph\n",
    "plt.show()"
   ]
  },
  {
   "cell_type": "markdown",
   "id": "9d19f8ed",
   "metadata": {},
   "source": [
    "Now For a Dynamic Program that will allow you to select which variables to plot"
   ]
  },
  {
   "cell_type": "code",
   "execution_count": null,
   "id": "e68e565d",
   "metadata": {},
   "outputs": [
    {
     "data": {
      "application/vnd.jupyter.widget-view+json": {
       "model_id": "329da980c5544d7490927e790f13c255",
       "version_major": 2,
       "version_minor": 0
      },
      "text/plain": [
       "Dropdown(description='Select File:', layout=Layout(width='50%'), options=('202401010_MPS011_Al_on_Silicon_10_1…"
      ]
     },
     "metadata": {},
     "output_type": "display_data"
    },
    {
     "data": {
      "application/vnd.jupyter.widget-view+json": {
       "model_id": "d13a1f36688547449655643a6d4bc6ef",
       "version_major": 2,
       "version_minor": 0
      },
      "text/plain": [
       "Button(description='Load File', style=ButtonStyle())"
      ]
     },
     "metadata": {},
     "output_type": "display_data"
    },
    {
     "data": {
      "application/vnd.jupyter.widget-view+json": {
       "model_id": "9ea264ec3d624610a3c4d9debc7dbe9a",
       "version_major": 2,
       "version_minor": 0
      },
      "text/plain": [
       "Dropdown(description='X-axis:', options=('Date', 'Time', 'Layer #', 'Sub. Rot.', 'Sub. Rot. Speed', 'Sub. Z He…"
      ]
     },
     "metadata": {},
     "output_type": "display_data"
    },
    {
     "data": {
      "application/vnd.jupyter.widget-view+json": {
       "model_id": "7a0e7b0cdd9b4f6c964e53c98c7d07b6",
       "version_major": 2,
       "version_minor": 0
      },
      "text/plain": [
       "Label(value='Display Individaul Layers:', layout=Layout(display='none'))"
      ]
     },
     "metadata": {},
     "output_type": "display_data"
    },
    {
     "data": {
      "application/vnd.jupyter.widget-view+json": {
       "model_id": "c17ef431671a435b977a0e2f3f6fd2d1",
       "version_major": 2,
       "version_minor": 0
      },
      "text/plain": [
       "Checkbox(value=False, layout=Layout(display='none'))"
      ]
     },
     "metadata": {},
     "output_type": "display_data"
    },
    {
     "data": {
      "application/vnd.jupyter.widget-view+json": {
       "model_id": "14d5359802934e4ea509b9c02067bfc3",
       "version_major": 2,
       "version_minor": 0
      },
      "text/plain": [
       "Dropdown(description='Layer Start:', layout=Layout(display='none'), options=(1, 2, 3, 4, 5, 6, 7, 8, 9, 10), v…"
      ]
     },
     "metadata": {},
     "output_type": "display_data"
    },
    {
     "data": {
      "application/vnd.jupyter.widget-view+json": {
       "model_id": "9518dde98b00414d8e024f3258111a4c",
       "version_major": 2,
       "version_minor": 0
      },
      "text/plain": [
       "Dropdown(description='Layer End:', layout=Layout(display='none'), options=(1, 2, 3, 4, 5, 6, 7, 8, 9, 10), val…"
      ]
     },
     "metadata": {},
     "output_type": "display_data"
    },
    {
     "data": {
      "application/vnd.jupyter.widget-view+json": {
       "model_id": "f0113c4c842344d2b9d67ce3acb22f60",
       "version_major": 2,
       "version_minor": 0
      },
      "text/plain": [
       "Dropdown(description='Y-axis:', options=('Date', 'Time', 'Layer #', 'Sub. Rot.', 'Sub. Rot. Speed', 'Sub. Z He…"
      ]
     },
     "metadata": {},
     "output_type": "display_data"
    },
    {
     "data": {
      "application/vnd.jupyter.widget-view+json": {
       "model_id": "9d4a31383add4a8eaa3b9b18998b5b94",
       "version_major": 2,
       "version_minor": 0
      },
      "text/plain": [
       "Button(description='Plot', style=ButtonStyle())"
      ]
     },
     "metadata": {},
     "output_type": "display_data"
    },
    {
     "data": {
      "application/vnd.jupyter.widget-view+json": {
       "model_id": "9d811f0b0b8148d9902d35a78e1932e5",
       "version_major": 2,
       "version_minor": 0
      },
      "text/plain": [
       "Output()"
      ]
     },
     "metadata": {},
     "output_type": "display_data"
    },
    {
     "data": {
      "image/png": "[encoded data removed]",
      "text/plain": [
       "<Figure size 600x400 with 1 Axes>"
      ]
     },
     "metadata": {},
     "output_type": "display_data"
    }
   ],
   "source": [
    "#This cell can be used to plot single variables of a file\n",
    "\n",
    "\n",
    "\n",
    "#Datalog Folder\n",
    "target_folder = r\"D:\\Logs\"\n",
    "\n",
    "#Makes a list of all of the files\n",
    "file_list = [f for f in os.listdir(target_folder) if os.path.isfile(os.path.join(target_folder, f))]\n",
    "\n",
    "#Initialize a blank Dataframe\n",
    "\n",
    "df = pd.read_csv(r\"20250714_XRR04_S055_30C_3nm Ta_600C_97_nm_Ta_TaOx_14-Jul-25_ 4_55_14 PM.csv\", skiprows=1)\n",
    "\n",
    "\n",
    "\n",
    "\n",
    "#Creates a dropdown menu to select the file you want\n",
    "file_dropdown = widgets.Dropdown(\n",
    "    options=file_list,\n",
    "    description='Select File:',\n",
    "    style={'description_width': 'initial'},\n",
    "    layout=widgets.Layout(width='50%')\n",
    ")\n",
    "\n",
    "#Creates a button to load the file\n",
    "load_button = widgets.Button(description='Load File')\n",
    "\n",
    "output = widgets.Output()\n",
    "\n",
    "#Event handler for the load button\n",
    "def on_load_clicked(b):\n",
    "    with output:\n",
    "        output.clear_output()\n",
    "        selected_file = file_dropdown.value\n",
    "        file_path = os.path.join(target_folder, selected_file)\n",
    "        print(f\"Selected file: {selected_file}\")\n",
    "        \n",
    "        # Optional: Read file into a DataFrame\n",
    "        import pandas as pd\n",
    "        df = pd.read_csv(file_path, skiprows=1)\n",
    "        print(\"File Loaded\")\n",
    "\n",
    "        #Convert Time to datetime\n",
    "\n",
    "        #print(df.head())\n",
    "\n",
    "\n",
    "\n",
    "\n",
    "load_button.on_click(on_load_clicked)\n",
    "\n",
    "#Event handlers for layer number\n",
    "def get_layer_num() -> int:\n",
    "    return int(df['Layer #'].iloc[-1])\n",
    "def get_random_color_list() -> list:\n",
    "    return [i for i in color_palette[0:layer_num]]\n",
    "\n",
    "def get_layer_names() -> list:\n",
    "\n",
    "    sample_number = file_dropdown.value.split(\"_\")[1]\n",
    "\n",
    "    new_target_folder = \"\\\\\".join(target_folder.split(\"\\\\\")[:-1])\n",
    "    file_list = [f for f in os.listdir(new_target_folder) if (os.path.isfile(os.path.join(new_target_folder, f)) and f[-3:] == \"ajp\")]\n",
    "    name = [f for f in file_list if f.count(sample_number) == 1][0]\n",
    "    line = \"\"\n",
    "    with open(new_target_folder + \"\\\\\" + name, \"r\") as f:\n",
    "        line = f.readline()\n",
    "    my_list =line.split(\"\\x00\")\n",
    "    my_list = [i.split(\"_\", 1)[1] for i in my_list if len(i) > 3]\n",
    "\n",
    "    return my_list\n",
    "\n",
    "def get_layer_range() -> list:\n",
    "    layer_ranges = []\n",
    "    current_layer = 1\n",
    "    start = 0\n",
    "    end = 0\n",
    "    for i in range(len(df['Time'])):\n",
    "        if df['Layer #'][i] > current_layer:\n",
    "            layer_ranges.append((start, end))\n",
    "            #layer_ranges.append((df['Time'][start],df['Time'][end]))\n",
    "            start = i\n",
    "            end = start\n",
    "            current_layer += 1\n",
    "        elif i == len(df['Time']) -1:\n",
    "            layer_ranges.append((start, end))\n",
    "        else:\n",
    "            end += 1 \n",
    "    return layer_ranges\n",
    "\n",
    "#Colors\n",
    "new_color_palette = ['brown', 'firebrick', 'maroon']\n",
    "colors =[new_color_palette[i% (len(new_color_palette))] for i in range(get_layer_num()) ]\n",
    "\n",
    "\n",
    "#Initialize Buttons\n",
    "x_dropdown = widgets.Dropdown(options=df.columns.tolist(), description='X-axis:')\n",
    "y_dropdown = widgets.Dropdown(options=df.columns.tolist(), description='Y-axis:')\n",
    "plot_button = widgets.Button(description='Plot')\n",
    "\n",
    "layer_range_start_button = widgets.Dropdown(options = zip(get_layer_names(),range(1, 1+ get_layer_num())), value = 1, description = \"Layer Start:\")\n",
    "layer_range_end_button = widgets.Dropdown(options = zip(get_layer_names(),range(1, 1+ get_layer_num())), value = get_layer_num(), description = \"Layer End:\")\n",
    "layer_range_start_button.layout.display = 'none'\n",
    "layer_range_end_button.layout.display = 'none'\n",
    "\n",
    "layer_checkbox_button = widgets.Checkbox(value = False, desciption = \"Show Layers:\", indent = True)\n",
    "layer_checkbox_button.layout.display = 'none'\n",
    "checkbox_text = widgets.Label(\"Display Individaul Layers:\", indent = True)\n",
    "checkbox_text.layout.display = 'none'\n",
    "\n",
    "relative_time_checkbox = widgets.Checkbox(value = False, description = \"Relative Time:\", indent = True)\n",
    "relative_time_checkbox.layout.display = 'none'\n",
    "relative_time_text = widgets.Label(\"Use Relative Time\", indent = True)\n",
    "relative_time_text.layout.display = 'none'\n",
    "\n",
    "use_layer_bool = False\n",
    "\n",
    "\n",
    "def plot_columns(x_col, y_col, start = None, end = None):\n",
    "    #print((df[x_col], df[y_col]))\n",
    "\n",
    "\n",
    "    #print(df.head())\n",
    "    plt.figure(figsize=(6, 4))\n",
    "    if layer_checkbox_button.value:\n",
    "        layer_ranges = get_layer_range()\n",
    "        if start == end:\n",
    "            start_time = layer_ranges[start-1][0]\n",
    "            end_time= layer_ranges[start-1][1]\n",
    "        else:\n",
    "            start_time = layer_ranges[start-1][0]\n",
    "            end_time= layer_ranges[end-1][1]\n",
    "\n",
    "        column_range = int(df[y_col][start_time:end_time].max()) - int(df[y_col][start_time:end_time].min())\n",
    "        spacing = int(column_range / get_layer_num())\n",
    "        layer_names = get_layer_names()\n",
    "        #print(df.head())n\n",
    "        if relative_time_checkbox.value:\n",
    "            date_time_column = pd.to_datetime(df['Time'], format='%I:%M:%S %p')\n",
    "            epoch = date_time_column.iloc[0]\n",
    "            relative_time_column = (date_time_column - epoch).dt.total_seconds() / 3600\n",
    "            plt.plot(relative_time_column[start_time:end_time], df[y_col][start_time:end_time], marker=',')\n",
    "            for i in range(start-1, end):\n",
    "                plt.axvspan(relative_time_column[layer_ranges[i][0]], relative_time_column[layer_ranges[i][1]], facecolor=colors[i], alpha=0.5, label = f\"Layer {i+1}\")\n",
    "                plt.text(relative_time_column[layer_ranges[i][0]], i*spacing, s = layer_names[i], fontsize = \"x-small\")\n",
    "            plt.xticks(np.arange(0, int(relative_time_column[start_time:end_time].max()), .5) )\n",
    "        else:\n",
    "            plt.plot(df[x_col][start_time:end_time], df[y_col][start_time:end_time], marker=',')\n",
    "            for i in range(start-1, end):\n",
    "                plt.axvspan(df['Time'][layer_ranges[i][0]], df['Time'][layer_ranges[i][1]], facecolor=colors[i], alpha=0.5, label = f\"Layer {i+1}\")\n",
    "                plt.text(layer_ranges[i][0], i*spacing, s = layer_names[i], fontsize = \"x-small\")\n",
    "            plt.xticks(df[x_col][start_time:end_time][::1000])\n",
    "    else:\n",
    "        plt.plot(df[x_col][1:-1], df[y_col][1:-1], marker=',')\n",
    "        plt.xticks(df[x_col][::1000])\n",
    "    plt.xlabel(x_col)\n",
    "    plt.ylabel(y_col)\n",
    "    plt.title(f'{y_col} vs {x_col}')\n",
    "    plt.grid(False)\n",
    "\n",
    "    \n",
    "\n",
    "    plt.show()\n",
    "\n",
    "# Callback for button\n",
    "def on_time_selected(b):\n",
    "    #print(x_dropdown.value)\n",
    "    if x_dropdown.value == \"Time\":\n",
    "        relative_time_text.layout.display = 'flex'\n",
    "        relative_time_checkbox.layout.display = 'flex'\n",
    "        checkbox_text.layout.display = 'flex'\n",
    "        layer_checkbox_button.layout.display = 'flex'\n",
    "\n",
    "\n",
    "\n",
    "    else:\n",
    "        layer_checkbox_button.layout.display = 'none'\n",
    "        checkbox_text.layout.display = 'none'\n",
    "        relative_time_checkbox.layout.display = 'none'\n",
    "        relative_time_text.layout.display = 'none'\n",
    "def on_plot_clicked(b):\n",
    "    with output:\n",
    "        if layer_checkbox_button.value:\n",
    "            plot_columns(x_dropdown.value, y_dropdown.value, layer_range_start_button.value, layer_range_end_button.value)\n",
    "        else:\n",
    "            plot_columns(x_dropdown.value, y_dropdown.value)\n",
    "\n",
    "def on_layer_checkbox(b):\n",
    "    if layer_checkbox_button.value:\n",
    "        layer_range_start_button.layout.display = 'flex'\n",
    "        layer_range_end_button.layout.display = 'flex'\n",
    "    else:\n",
    "        layer_range_start_button.layout.display = 'none'\n",
    "        layer_range_end_button.layout.display = 'none'\n",
    "\n",
    "\n",
    "\n",
    "plot_button.on_click(on_plot_clicked)\n",
    "x_dropdown.observe(on_time_selected)\n",
    "layer_checkbox_button.observe(on_layer_checkbox)\n",
    "\n",
    "\n",
    "display(file_dropdown, load_button,x_dropdown, relative_time_text, relative_time_checkbox ,checkbox_text,layer_checkbox_button,layer_range_start_button, layer_range_end_button, y_dropdown, plot_button, output)\n",
    "\n"
   ]
  },
  {
   "cell_type": "code",
   "execution_count": null,
   "id": "bddcfa0a",
   "metadata": {},
   "outputs": [],
   "source": [
    "#Test Getting Recipe File & Layer Numbers \n",
    "print(target_folder)\n",
    "new_target_folder = \"//\".join(target_folder.split(\"\\\\\")[:-1])\n",
    "\n",
    "#Makes a list of all of the files\n",
    "file_list = [f for f in os.listdir(new_target_folder) if (os.path.isfile(os.path.join(new_target_folder, f)) and f[-3:] == \"ajp\")]\n",
    "print(file_list)\n",
    "\n",
    "\n",
    "name = str([f for f in file_list if f.count(\"S041\") == 1])\n",
    "print(name)"
   ]
  },
  {
   "cell_type": "code",
   "execution_count": null,
   "id": "bf6c8511",
   "metadata": {},
   "outputs": [],
   "source": [
    "#Finding Plasma Time & Duration\n",
    "\n",
    "\n",
    "\n",
    "#Folder containing your CSVs\n",
    "data_folder = 'D:\\Logs'  # Change to your folder path\n",
    "csv_files = [f for f in os.listdir(data_folder) if f.endswith('.csv')]\n",
    "\n",
    "# Multi-select dropdown widget\n",
    "file_selector = widgets.SelectMultiple(\n",
    "    options=csv_files,\n",
    "    description='CSV Files:',\n",
    "    rows=10,\n",
    "    layout=widgets.Layout(width='50%')\n",
    ")\n",
    "\n",
    "# Button to trigger loading\n",
    "load_button = widgets.Button(description='Load Selected Files')\n",
    "\n",
    "# Output display\n",
    "output = widgets.Output()\n",
    "\n",
    "# List to store loaded DataFrames\n",
    "dataframes = []\n",
    "\n",
    "# Button handler\n",
    "def on_button_click(b):\n",
    "    with output:\n",
    "        output.clear_output()\n",
    "        selected_files = file_selector.value\n",
    "        dataframes.clear()  # Reset list on new load\n",
    "        print(f\"Loading {len(selected_files)} file(s)...\")\n",
    "        for fname in selected_files:\n",
    "            path = os.path.join(data_folder, fname)\n",
    "            try:\n",
    "                df = pd.read_csv(path)\n",
    "                dataframes.append(df)\n",
    "                print(f\"✅ Loaded: {fname} — shape: {df.shape}\")\n",
    "            except Exception as e:\n",
    "                print(f\"❌ Error loading {fname}: {e}\")\n",
    "\n",
    "# Connect button to function\n",
    "load_button.on_click(on_button_click)\n",
    "\n",
    "# Layout display\n",
    "ui = widgets.VBox([file_selector, load_button, output])\n",
    "display(ui)\n",
    "\n",
    "\n"
   ]
  }
 ],
 "metadata": {
  "kernelspec": {
   "display_name": "base",
   "language": "python",
   "name": "python3"
  },
  "language_info": {
   "codemirror_mode": {
    "name": "ipython",
    "version": 3
   },
   "file_extension": ".py",
   "mimetype": "text/x-python",
   "name": "python",
   "nbconvert_exporter": "python",
   "pygments_lexer": "ipython3",
   "version": "3.13.5"
  }
 },
 "nbformat": 4,
 "nbformat_minor": 5
}
